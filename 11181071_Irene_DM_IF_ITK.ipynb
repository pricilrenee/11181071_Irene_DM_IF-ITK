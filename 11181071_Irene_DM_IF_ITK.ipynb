{
  "nbformat": 4,
  "nbformat_minor": 0,
  "metadata": {
    "colab": {
      "name": "11181071_Irene_DM_IF-ITK.ipynb",
      "provenance": [],
      "toc_visible": true,
      "authorship_tag": "ABX9TyOnr/YzZPomOW33p78xY5+Q",
      "include_colab_link": true
    },
    "kernelspec": {
      "name": "python3",
      "display_name": "Python 3"
    },
    "language_info": {
      "name": "python"
    }
  },
  "cells": [
    {
      "cell_type": "markdown",
      "metadata": {
        "id": "view-in-github",
        "colab_type": "text"
      },
      "source": [
        "<a href=\"https://colab.research.google.com/github/pricilrenee/11181071_Irene_DM_IF-ITK/blob/main/11181071_Irene_DM_IF_ITK.ipynb\" target=\"_parent\"><img src=\"https://colab.research.google.com/assets/colab-badge.svg\" alt=\"Open In Colab\"/></a>"
      ]
    },
    {
      "cell_type": "markdown",
      "metadata": {
        "id": "dHM865PhpsFE"
      },
      "source": [
        "# logistic & knn"
      ]
    },
    {
      "cell_type": "code",
      "metadata": {
        "id": "4V8pHMZ1pwlN"
      },
      "source": [
        "# Meng-import library yang akan digunakan\n",
        "\n",
        "import pandas as pd\n",
        "%matplotlib inline\n",
        "import matplotlib.pyplot as plt\n",
        "import numpy as np\n",
        "\n",
        "from sklearn import datasets\n",
        "\n",
        "iris = datasets.load_iris()"
      ],
      "execution_count": 66,
      "outputs": []
    },
    {
      "cell_type": "code",
      "metadata": {
        "colab": {
          "base_uri": "https://localhost:8080/",
          "height": 206
        },
        "id": "9f8WGqUWp5tv",
        "outputId": "28162062-0537-49aa-c218-097eda1a1601"
      },
      "source": [
        "df = pd.DataFrame(data=iris.data, columns=iris.feature_names)\n",
        "df['target'] = iris.target\n",
        "df.head()"
      ],
      "execution_count": 65,
      "outputs": [
        {
          "output_type": "execute_result",
          "data": {
            "text/html": [
              "<div>\n",
              "<style scoped>\n",
              "    .dataframe tbody tr th:only-of-type {\n",
              "        vertical-align: middle;\n",
              "    }\n",
              "\n",
              "    .dataframe tbody tr th {\n",
              "        vertical-align: top;\n",
              "    }\n",
              "\n",
              "    .dataframe thead th {\n",
              "        text-align: right;\n",
              "    }\n",
              "</style>\n",
              "<table border=\"1\" class=\"dataframe\">\n",
              "  <thead>\n",
              "    <tr style=\"text-align: right;\">\n",
              "      <th></th>\n",
              "      <th>sepal length (cm)</th>\n",
              "      <th>sepal width (cm)</th>\n",
              "      <th>petal length (cm)</th>\n",
              "      <th>petal width (cm)</th>\n",
              "      <th>target</th>\n",
              "    </tr>\n",
              "  </thead>\n",
              "  <tbody>\n",
              "    <tr>\n",
              "      <th>0</th>\n",
              "      <td>5.1</td>\n",
              "      <td>3.5</td>\n",
              "      <td>1.4</td>\n",
              "      <td>0.2</td>\n",
              "      <td>0</td>\n",
              "    </tr>\n",
              "    <tr>\n",
              "      <th>1</th>\n",
              "      <td>4.9</td>\n",
              "      <td>3.0</td>\n",
              "      <td>1.4</td>\n",
              "      <td>0.2</td>\n",
              "      <td>0</td>\n",
              "    </tr>\n",
              "    <tr>\n",
              "      <th>2</th>\n",
              "      <td>4.7</td>\n",
              "      <td>3.2</td>\n",
              "      <td>1.3</td>\n",
              "      <td>0.2</td>\n",
              "      <td>0</td>\n",
              "    </tr>\n",
              "    <tr>\n",
              "      <th>3</th>\n",
              "      <td>4.6</td>\n",
              "      <td>3.1</td>\n",
              "      <td>1.5</td>\n",
              "      <td>0.2</td>\n",
              "      <td>0</td>\n",
              "    </tr>\n",
              "    <tr>\n",
              "      <th>4</th>\n",
              "      <td>5.0</td>\n",
              "      <td>3.6</td>\n",
              "      <td>1.4</td>\n",
              "      <td>0.2</td>\n",
              "      <td>0</td>\n",
              "    </tr>\n",
              "  </tbody>\n",
              "</table>\n",
              "</div>"
            ],
            "text/plain": [
              "   sepal length (cm)  sepal width (cm)  ...  petal width (cm)  target\n",
              "0                5.1               3.5  ...               0.2       0\n",
              "1                4.9               3.0  ...               0.2       0\n",
              "2                4.7               3.2  ...               0.2       0\n",
              "3                4.6               3.1  ...               0.2       0\n",
              "4                5.0               3.6  ...               0.2       0\n",
              "\n",
              "[5 rows x 5 columns]"
            ]
          },
          "metadata": {},
          "execution_count": 65
        }
      ]
    },
    {
      "cell_type": "code",
      "metadata": {
        "colab": {
          "base_uri": "https://localhost:8080/"
        },
        "id": "sAceTS4hpwzq",
        "outputId": "6945dbf8-0513-4c44-9f0f-ecded4b7116b"
      },
      "source": [
        "#Label Name\n",
        "targetNames = iris.target_names\n",
        "print(f\"['0','1','2'] : {targetNames}\")"
      ],
      "execution_count": 48,
      "outputs": [
        {
          "output_type": "stream",
          "name": "stdout",
          "text": [
            "['0','1','2'] : ['setosa' 'versicolor' 'virginica']\n"
          ]
        }
      ]
    },
    {
      "cell_type": "code",
      "metadata": {
        "id": "FhhSGBBmqMKG"
      },
      "source": [
        "#Mendefinisikan x dan y\n",
        "from sklearn.model_selection import train_test_split\n",
        "\n",
        "X = df.drop([\"target\"], axis = 1).values\n",
        "y = df[\"target\"].values\n",
        "\n",
        "X_train, X_test, y_train, y_test = train_test_split(X, y, random_state = 0, test_size = 0.25)"
      ],
      "execution_count": 67,
      "outputs": []
    },
    {
      "cell_type": "code",
      "metadata": {
        "id": "uqFZiuOFrRz-"
      },
      "source": [
        "#Menskalakan data\n",
        "from sklearn.preprocessing import StandardScaler\n",
        "\n",
        "scaler = StandardScaler()\n",
        "scaler.fit(X_train)\n",
        "\n",
        "X_train = scaler.transform(X_train)\n",
        "X_test = scaler.transform(X_test)"
      ],
      "execution_count": 68,
      "outputs": []
    },
    {
      "cell_type": "code",
      "metadata": {
        "colab": {
          "base_uri": "https://localhost:8080/"
        },
        "id": "V2UsuJKirUhK",
        "outputId": "69d28660-d290-46e2-f622-dd6260683016"
      },
      "source": [
        "#Algoritma Logistic Regression\n",
        "from sklearn.linear_model import LogisticRegression\n",
        "\n",
        "model = LogisticRegression(solver = \"lbfgs\", class_weight = \"balanced\")\n",
        "model.fit(X_train, y_train)\n",
        "\n",
        "print(model.score(X_test, y_test))"
      ],
      "execution_count": 69,
      "outputs": [
        {
          "output_type": "stream",
          "name": "stdout",
          "text": [
            "0.9736842105263158\n"
          ]
        }
      ]
    },
    {
      "cell_type": "code",
      "metadata": {
        "colab": {
          "base_uri": "https://localhost:8080/"
        },
        "id": "m57JzFXgrXN1",
        "outputId": "ef2ac83a-6d98-43ec-e989-4123e378e380"
      },
      "source": [
        "#Algoritma K-Nearest Neighbour\n",
        "from sklearn.neighbors import KNeighborsClassifier\n",
        "\n",
        "model = KNeighborsClassifier(n_neighbors = 5)\n",
        "model.fit(X_train, y_train)\n",
        "\n",
        "print(model.score(X_test, y_test))"
      ],
      "execution_count": 70,
      "outputs": [
        {
          "output_type": "stream",
          "name": "stdout",
          "text": [
            "0.9736842105263158\n"
          ]
        }
      ]
    },
    {
      "cell_type": "markdown",
      "metadata": {
        "id": "KgQU2eM1QXE-"
      },
      "source": [
        "# metode k-nearest neighbour"
      ]
    },
    {
      "cell_type": "code",
      "metadata": {
        "id": "aNryktcMQbVr"
      },
      "source": [
        "# Meng-import library yang akan digunakan\n",
        "\n",
        "import pandas as pd\n",
        "import numpy as np\n",
        "import matplotlib.pyplot as plt"
      ],
      "execution_count": 6,
      "outputs": []
    },
    {
      "cell_type": "code",
      "metadata": {
        "colab": {
          "base_uri": "https://localhost:8080/",
          "height": 206
        },
        "id": "tAXNf5wAbguW",
        "outputId": "55e918d5-4451-47d6-d264-7394baa8baf4"
      },
      "source": [
        "# Memuat iris data yang terdapat pada sklearn datasets dan menyimpannya dalam DataFrame\n",
        "\n",
        "from sklearn import datasets\n",
        "\n",
        "iris = datasets.load_iris()\n",
        "\n",
        "df = pd.DataFrame(data=iris.data, columns=iris.feature_names)\n",
        "df['target'] = iris.target\n",
        "df.head()"
      ],
      "execution_count": 63,
      "outputs": [
        {
          "output_type": "execute_result",
          "data": {
            "text/html": [
              "<div>\n",
              "<style scoped>\n",
              "    .dataframe tbody tr th:only-of-type {\n",
              "        vertical-align: middle;\n",
              "    }\n",
              "\n",
              "    .dataframe tbody tr th {\n",
              "        vertical-align: top;\n",
              "    }\n",
              "\n",
              "    .dataframe thead th {\n",
              "        text-align: right;\n",
              "    }\n",
              "</style>\n",
              "<table border=\"1\" class=\"dataframe\">\n",
              "  <thead>\n",
              "    <tr style=\"text-align: right;\">\n",
              "      <th></th>\n",
              "      <th>sepal length (cm)</th>\n",
              "      <th>sepal width (cm)</th>\n",
              "      <th>petal length (cm)</th>\n",
              "      <th>petal width (cm)</th>\n",
              "      <th>target</th>\n",
              "    </tr>\n",
              "  </thead>\n",
              "  <tbody>\n",
              "    <tr>\n",
              "      <th>0</th>\n",
              "      <td>5.1</td>\n",
              "      <td>3.5</td>\n",
              "      <td>1.4</td>\n",
              "      <td>0.2</td>\n",
              "      <td>0</td>\n",
              "    </tr>\n",
              "    <tr>\n",
              "      <th>1</th>\n",
              "      <td>4.9</td>\n",
              "      <td>3.0</td>\n",
              "      <td>1.4</td>\n",
              "      <td>0.2</td>\n",
              "      <td>0</td>\n",
              "    </tr>\n",
              "    <tr>\n",
              "      <th>2</th>\n",
              "      <td>4.7</td>\n",
              "      <td>3.2</td>\n",
              "      <td>1.3</td>\n",
              "      <td>0.2</td>\n",
              "      <td>0</td>\n",
              "    </tr>\n",
              "    <tr>\n",
              "      <th>3</th>\n",
              "      <td>4.6</td>\n",
              "      <td>3.1</td>\n",
              "      <td>1.5</td>\n",
              "      <td>0.2</td>\n",
              "      <td>0</td>\n",
              "    </tr>\n",
              "    <tr>\n",
              "      <th>4</th>\n",
              "      <td>5.0</td>\n",
              "      <td>3.6</td>\n",
              "      <td>1.4</td>\n",
              "      <td>0.2</td>\n",
              "      <td>0</td>\n",
              "    </tr>\n",
              "  </tbody>\n",
              "</table>\n",
              "</div>"
            ],
            "text/plain": [
              "   sepal length (cm)  sepal width (cm)  ...  petal width (cm)  target\n",
              "0                5.1               3.5  ...               0.2       0\n",
              "1                4.9               3.0  ...               0.2       0\n",
              "2                4.7               3.2  ...               0.2       0\n",
              "3                4.6               3.1  ...               0.2       0\n",
              "4                5.0               3.6  ...               0.2       0\n",
              "\n",
              "[5 rows x 5 columns]"
            ]
          },
          "metadata": {},
          "execution_count": 63
        }
      ]
    },
    {
      "cell_type": "code",
      "metadata": {
        "colab": {
          "base_uri": "https://localhost:8080/"
        },
        "id": "xrriD2ZTb0h_",
        "outputId": "7298c045-a50f-4e0a-ed2b-d8fbc3ac1335"
      },
      "source": [
        "#Label Name\n",
        "targetNames = iris.target_names\n",
        "print(f\"['0','1','2'] : {targetNames}\")"
      ],
      "execution_count": 8,
      "outputs": [
        {
          "output_type": "stream",
          "name": "stdout",
          "text": [
            "['0','1','2'] : ['setosa' 'versicolor' 'virginica']\n"
          ]
        }
      ]
    },
    {
      "cell_type": "code",
      "metadata": {
        "id": "xcFrSNGrb3Hc"
      },
      "source": [
        "# Memisahkan data X dan Y\n",
        "\n",
        "X = df.drop('target', axis=1)\n",
        "y = df.target"
      ],
      "execution_count": 9,
      "outputs": []
    },
    {
      "cell_type": "code",
      "metadata": {
        "colab": {
          "base_uri": "https://localhost:8080/"
        },
        "id": "2eLw4v87b_Nn",
        "outputId": "6c5bc24e-2d7d-4da3-953f-fd3d21fdc4dc"
      },
      "source": [
        "# Menghitung jarak antara 2 point\n",
        "\n",
        "def minkowski_distance(a, b, p=1):\n",
        "    \n",
        "    # Menyimpan jumlah dimensi yang ada\n",
        "    dim = len(a)\n",
        "    \n",
        "    # Mengatur jarak awalnya sebesar 0\n",
        "    distance = 0\n",
        "    \n",
        "    # Menghitung Minkowksi Distance menggunakan parameter P\n",
        "    for d in range(dim):\n",
        "        distance += abs(a[d] - b[d])**p\n",
        "        \n",
        "    distance = distance**(1/p)\n",
        "    \n",
        "    return distance\n",
        "\n",
        "\n",
        "# Melakukan test pada fungsi diatas\n",
        "\n",
        "minkowski_distance(a=X.iloc[0], b=X.iloc[1], p=1)"
      ],
      "execution_count": 10,
      "outputs": [
        {
          "output_type": "execute_result",
          "data": {
            "text/plain": [
              "0.6999999999999993"
            ]
          },
          "metadata": {},
          "execution_count": 10
        }
      ]
    },
    {
      "cell_type": "code",
      "metadata": {
        "colab": {
          "base_uri": "https://localhost:8080/",
          "height": 206
        },
        "id": "90ixUlDFcFey",
        "outputId": "7a4364c0-54e8-4389-cde7-04efc8cfb6a5"
      },
      "source": [
        "# Menentukan titik uji\n",
        "\n",
        "test_pt = [4.8, 2.7, 2.5, 0.7]\n",
        "\n",
        "# Menghitung Jarak antara titik uji (test_pt) yang ditentukan dengan semua titik X\n",
        "\n",
        "distances = []\n",
        "\n",
        "for i in X.index:\n",
        "    \n",
        "    distances.append(minkowski_distance(test_pt, X.iloc[i]))\n",
        "    \n",
        "df_dists = pd.DataFrame(data=distances, index=X.index, columns=['dist'])\n",
        "df_dists.head()"
      ],
      "execution_count": 11,
      "outputs": [
        {
          "output_type": "execute_result",
          "data": {
            "text/html": [
              "<div>\n",
              "<style scoped>\n",
              "    .dataframe tbody tr th:only-of-type {\n",
              "        vertical-align: middle;\n",
              "    }\n",
              "\n",
              "    .dataframe tbody tr th {\n",
              "        vertical-align: top;\n",
              "    }\n",
              "\n",
              "    .dataframe thead th {\n",
              "        text-align: right;\n",
              "    }\n",
              "</style>\n",
              "<table border=\"1\" class=\"dataframe\">\n",
              "  <thead>\n",
              "    <tr style=\"text-align: right;\">\n",
              "      <th></th>\n",
              "      <th>dist</th>\n",
              "    </tr>\n",
              "  </thead>\n",
              "  <tbody>\n",
              "    <tr>\n",
              "      <th>0</th>\n",
              "      <td>2.7</td>\n",
              "    </tr>\n",
              "    <tr>\n",
              "      <th>1</th>\n",
              "      <td>2.0</td>\n",
              "    </tr>\n",
              "    <tr>\n",
              "      <th>2</th>\n",
              "      <td>2.3</td>\n",
              "    </tr>\n",
              "    <tr>\n",
              "      <th>3</th>\n",
              "      <td>2.1</td>\n",
              "    </tr>\n",
              "    <tr>\n",
              "      <th>4</th>\n",
              "      <td>2.7</td>\n",
              "    </tr>\n",
              "  </tbody>\n",
              "</table>\n",
              "</div>"
            ],
            "text/plain": [
              "   dist\n",
              "0   2.7\n",
              "1   2.0\n",
              "2   2.3\n",
              "3   2.1\n",
              "4   2.7"
            ]
          },
          "metadata": {},
          "execution_count": 11
        }
      ]
    },
    {
      "cell_type": "code",
      "metadata": {
        "colab": {
          "base_uri": "https://localhost:8080/",
          "height": 206
        },
        "id": "pHtezxnecHoI",
        "outputId": "23acd5c3-78f4-44b8-eb4a-0aa1478d7b40"
      },
      "source": [
        "# Menemukan 5 tetangga terdekat\n",
        "\n",
        "df_nn = df_dists.sort_values(by=['dist'], axis=0)[:5]\n",
        "df_nn"
      ],
      "execution_count": 12,
      "outputs": [
        {
          "output_type": "execute_result",
          "data": {
            "text/html": [
              "<div>\n",
              "<style scoped>\n",
              "    .dataframe tbody tr th:only-of-type {\n",
              "        vertical-align: middle;\n",
              "    }\n",
              "\n",
              "    .dataframe tbody tr th {\n",
              "        vertical-align: top;\n",
              "    }\n",
              "\n",
              "    .dataframe thead th {\n",
              "        text-align: right;\n",
              "    }\n",
              "</style>\n",
              "<table border=\"1\" class=\"dataframe\">\n",
              "  <thead>\n",
              "    <tr style=\"text-align: right;\">\n",
              "      <th></th>\n",
              "      <th>dist</th>\n",
              "    </tr>\n",
              "  </thead>\n",
              "  <tbody>\n",
              "    <tr>\n",
              "      <th>98</th>\n",
              "      <td>1.4</td>\n",
              "    </tr>\n",
              "    <tr>\n",
              "      <th>57</th>\n",
              "      <td>1.5</td>\n",
              "    </tr>\n",
              "    <tr>\n",
              "      <th>93</th>\n",
              "      <td>1.7</td>\n",
              "    </tr>\n",
              "    <tr>\n",
              "      <th>24</th>\n",
              "      <td>1.8</td>\n",
              "    </tr>\n",
              "    <tr>\n",
              "      <th>30</th>\n",
              "      <td>1.8</td>\n",
              "    </tr>\n",
              "  </tbody>\n",
              "</table>\n",
              "</div>"
            ],
            "text/plain": [
              "    dist\n",
              "98   1.4\n",
              "57   1.5\n",
              "93   1.7\n",
              "24   1.8\n",
              "30   1.8"
            ]
          },
          "metadata": {},
          "execution_count": 12
        }
      ]
    },
    {
      "cell_type": "code",
      "metadata": {
        "colab": {
          "base_uri": "https://localhost:8080/"
        },
        "id": "jXtXPypAcJ5N",
        "outputId": "81a906d8-7640-4c19-a474-f8f882fc325f"
      },
      "source": [
        "from collections import Counter\n",
        "\n",
        "# Membuat objek penghitung untuk melacak label\n",
        "\n",
        "counter = Counter(y[df_nn.index])\n",
        "\n",
        "# Mendapatkan label paling umum dari semua tetangga terdekat\n",
        "\n",
        "counter.most_common()[0][0]"
      ],
      "execution_count": 13,
      "outputs": [
        {
          "output_type": "execute_result",
          "data": {
            "text/plain": [
              "1"
            ]
          },
          "metadata": {},
          "execution_count": 13
        }
      ]
    },
    {
      "cell_type": "code",
      "metadata": {
        "id": "fLiH540lcLym"
      },
      "source": [
        "from sklearn.model_selection import train_test_split\n",
        "from sklearn.preprocessing import StandardScaler\n",
        "\n",
        "# Membagi datanya - 75% train, 25% test\n",
        "\n",
        "X_train, X_test, y_train, y_test = train_test_split(X, y, test_size=0.25,\n",
        "                                                   random_state=1)\n",
        "\n",
        "# Mengskala data X\n",
        "\n",
        "scaler = StandardScaler()\n",
        "X_train = scaler.fit_transform(X_train)\n",
        "X_test = scaler.transform(X_test)"
      ],
      "execution_count": 14,
      "outputs": []
    },
    {
      "cell_type": "code",
      "metadata": {
        "colab": {
          "base_uri": "https://localhost:8080/"
        },
        "id": "2eMyS-hCcSsG",
        "outputId": "f872b99e-8e69-4573-c52f-efa71ad3218b"
      },
      "source": [
        "def knn_predict(X_train, X_test, y_train, y_test, k, p):\n",
        "    \n",
        "    # Counter untuk membantu dengan voting label\n",
        "    from collections import Counter\n",
        "    \n",
        "    # Melakukan prediksi untuk test data\n",
        "    # Diperlukan output 1 prediksi per test data point\n",
        "    y_hat_test = []\n",
        "\n",
        "    for test_point in X_test:\n",
        "        distances = []\n",
        "\n",
        "        for train_point in X_train:\n",
        "            distance = minkowski_distance(test_point, train_point, p=p)\n",
        "            distances.append(distance)\n",
        "        \n",
        "        # Menyimpan Jarak pada DataFrame\n",
        "        df_dists = pd.DataFrame(data=distances, columns=['dist'], \n",
        "                                index=y_train.index)\n",
        "        \n",
        "        # Mengurutkan Jarak, dan hanya mempertimbangkan K titik terdekat\n",
        "        df_nn = df_dists.sort_values(by=['dist'], axis=0)[:k]\n",
        "\n",
        "        # Buat objek penghitung untuk melacak label k tetangga terdekat\n",
        "        counter = Counter(y_train[df_nn.index])\n",
        "\n",
        "        # Mendapatkan label paling umum dari semua tetangga terdekat\n",
        "        prediction = counter.most_common()[0][0]\n",
        "        \n",
        "        # Menambahkan hasil prediksi ke daftar keluaran\n",
        "        y_hat_test.append(prediction)\n",
        "        \n",
        "    return y_hat_test\n",
        "\n",
        "\n",
        "# Melakukan prediksi pada dataset\n",
        "y_hat_test = knn_predict(X_train, X_test, y_train, y_test, k=3, p=1)\n",
        "\n",
        "print(y_hat_test)"
      ],
      "execution_count": 15,
      "outputs": [
        {
          "output_type": "stream",
          "name": "stdout",
          "text": [
            "[0, 1, 1, 0, 2, 1, 2, 0, 0, 2, 1, 0, 2, 1, 1, 0, 1, 1, 0, 0, 1, 1, 2, 0, 2, 1, 0, 0, 1, 2, 1, 2, 1, 2, 2, 0, 1, 0]\n"
          ]
        }
      ]
    },
    {
      "cell_type": "code",
      "metadata": {
        "colab": {
          "base_uri": "https://localhost:8080/"
        },
        "id": "czRj9HFIcU5G",
        "outputId": "b08c35f6-8041-4543-b7b6-232286839d3b"
      },
      "source": [
        "# Mendapatkan hasil akurasi, confusion matrix, dan klasifikasi report\n",
        "\n",
        "from sklearn.metrics import accuracy_score\n",
        "from sklearn.metrics import confusion_matrix\n",
        "from sklearn.metrics import classification_report\n",
        "\n",
        "acc = accuracy_score(y_test, y_hat_test)\n",
        "print(f\"Accuracy : {acc}\")\n",
        "cfm = confusion_matrix(y_test, y_hat_test)\n",
        "print(\"Confusion Matrix : \")\n",
        "print(cfm)\n",
        "print(\"Classification Report : \")\n",
        "clr = classification_report(y_test,y_hat_test, target_names=targetNames)\n",
        "print(clr)"
      ],
      "execution_count": 16,
      "outputs": [
        {
          "output_type": "stream",
          "name": "stdout",
          "text": [
            "Accuracy : 0.9736842105263158\n",
            "Confusion Matrix : \n",
            "[[13  0  0]\n",
            " [ 0 15  1]\n",
            " [ 0  0  9]]\n",
            "Classification Report : \n",
            "              precision    recall  f1-score   support\n",
            "\n",
            "      setosa       1.00      1.00      1.00        13\n",
            "  versicolor       1.00      0.94      0.97        16\n",
            "   virginica       0.90      1.00      0.95         9\n",
            "\n",
            "    accuracy                           0.97        38\n",
            "   macro avg       0.97      0.98      0.97        38\n",
            "weighted avg       0.98      0.97      0.97        38\n",
            "\n"
          ]
        }
      ]
    },
    {
      "cell_type": "code",
      "metadata": {
        "colab": {
          "base_uri": "https://localhost:8080/"
        },
        "id": "MAxXn8IocXHg",
        "outputId": "816ae5a2-747a-40d7-fd59-83a3000360fe"
      },
      "source": [
        "# Melakukan test untuk melihat dan membandingkan hasil bila menggunakan sklearn.neighbors.KNeighborsClassifier\n",
        "\n",
        "from sklearn.neighbors import KNeighborsClassifier\n",
        "\n",
        "clf = KNeighborsClassifier(n_neighbors=3, p=1)\n",
        "clf.fit(X_train, y_train)\n",
        "y_pred_test = clf.predict(X_test)\n",
        "\n",
        "acc_sklearn = accuracy_score(y_test, y_pred_test)\n",
        "print(f\"SKlearn KNN Accuracy : {acc_sklearn}\")\n",
        "cfm_sklearn = confusion_matrix(y_test, y_pred_test)\n",
        "print(\"SKlearn KNN Confusion Matrix : \")\n",
        "print(cfm_sklearn)\n",
        "clr_sklearn = classification_report(y_test,y_pred_test, target_names=targetNames)\n",
        "print(\"SKlearn KNN Classification Report : \")\n",
        "print(clr_sklearn)"
      ],
      "execution_count": 17,
      "outputs": [
        {
          "output_type": "stream",
          "name": "stdout",
          "text": [
            "SKlearn KNN Accuracy : 0.9736842105263158\n",
            "SKlearn KNN Confusion Matrix : \n",
            "[[13  0  0]\n",
            " [ 0 15  1]\n",
            " [ 0  0  9]]\n",
            "SKlearn KNN Classification Report : \n",
            "              precision    recall  f1-score   support\n",
            "\n",
            "      setosa       1.00      1.00      1.00        13\n",
            "  versicolor       1.00      0.94      0.97        16\n",
            "   virginica       0.90      1.00      0.95         9\n",
            "\n",
            "    accuracy                           0.97        38\n",
            "   macro avg       0.97      0.98      0.97        38\n",
            "weighted avg       0.98      0.97      0.97        38\n",
            "\n"
          ]
        }
      ]
    },
    {
      "cell_type": "code",
      "metadata": {
        "colab": {
          "base_uri": "https://localhost:8080/",
          "height": 388
        },
        "id": "PyrFyJhXcZOb",
        "outputId": "c0c33b83-23bc-4b48-89e6-3a75329c7688"
      },
      "source": [
        "# Mendapatkan skor akurasi dari k\n",
        "\n",
        "accuracies = []\n",
        "\n",
        "for k in range(1,100):\n",
        "    y_hat_test = knn_predict(X_train, X_test, y_train, y_test, k, p=1)\n",
        "    accuracies.append(accuracy_score(y_test, y_hat_test))\n",
        "\n",
        "# Plot the results \n",
        "\n",
        "fig, ax = plt.subplots(figsize=(8,6))\n",
        "ax.plot(range(1,100), accuracies)\n",
        "ax.set_xlabel('Numbers of Nearest Neighbors (k)')\n",
        "ax.set_ylabel('Accuracy (%)');"
      ],
      "execution_count": 18,
      "outputs": [
        {
          "output_type": "display_data",
          "data": {
            "image/png": "[encoded data removed]",
            "text/plain": [
              "<Figure size 576x432 with 1 Axes>"
            ]
          },
          "metadata": {
            "needs_background": "light"
          }
        }
      ]
    }
  ]
}